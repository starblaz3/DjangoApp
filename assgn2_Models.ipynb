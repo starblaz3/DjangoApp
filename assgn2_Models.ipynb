{
 "cells": [
  {
   "cell_type": "code",
   "execution_count": 13,
   "id": "e5ce420f",
   "metadata": {},
   "outputs": [],
   "source": [
    "import pandas as pd\n",
    "import numpy as np\n",
    "from sklearn.model_selection import train_test_split, GridSearchCV\n",
    "from sklearn.linear_model import LinearRegression\n",
    "from sklearn.neighbors import KNeighborsRegressor\n",
    "from sklearn.ensemble import RandomForestRegressor, GradientBoostingRegressor\n",
    "from sklearn.svm import SVR\n",
    "from sklearn.metrics import mean_absolute_error, mean_squared_error"
   ]
  },
  {
   "cell_type": "code",
   "execution_count": 14,
   "id": "3c21b2ff",
   "metadata": {},
   "outputs": [],
   "source": [
    "# Evaluate the models\n",
    "def evaluate_model(y_true, y_pred, model_name, mode):\n",
    "    if mode == '1':\n",
    "        e = mean_absolute_error(y_true, y_pred)\n",
    "        print(f\"{model_name} - Mean Absolute Error (MAE): {e:.2f}\")\n",
    "    elif mode == '2':\n",
    "        e = mean_squared_error(y_true, y_pred)\n",
    "        print(f\"{model_name} - Mean Squared Error (MSE): {e:.2f}\")\n",
    "    else:\n",
    "        e = np.sqrt(mean_squared_error(y_true, y_pred))\n",
    "        print(f\"{model_name} - Root Mean Squared Error (RMSE): {e:.2f}\")"
   ]
  },
  {
   "cell_type": "code",
   "execution_count": 15,
   "id": "4f795076",
   "metadata": {},
   "outputs": [],
   "source": [
    "# Load and preprocess the data\n",
    "data = pd.read_csv('data.csv')  # Replace 'your_data.csv' with your file path\n",
    "X = data['air_temperature'].values.reshape(-1, 1)\n",
    "y = data['water_temperature'].values\n",
    "\n",
    "# Split the data into training and testing sets\n",
    "X_train, X_test, y_train, y_test = train_test_split(X, y, test_size=0.2)"
   ]
  },
  {
   "cell_type": "code",
   "execution_count": 16,
   "id": "e670e5f9",
   "metadata": {},
   "outputs": [],
   "source": [
    "# Initialize and train Linear Regression model\n",
    "\n",
    "def lr(mode):\n",
    "    lr_model = LinearRegression()\n",
    "    lr_model.fit(X_train, y_train)\n",
    "    y_pred_lr = lr_model.predict(X_test)\n",
    "\n",
    "    evaluate_model(y_test, y_pred_lr, \"Linear Regression\",mode)\n",
    "    return lr_model"
   ]
  },
  {
   "cell_type": "code",
   "execution_count": 17,
   "id": "bc5dadd9",
   "metadata": {},
   "outputs": [],
   "source": [
    "# Initialize and train Random Forest model\n",
    "def rf(mode):\n",
    "    \n",
    "    rf_param_grid = {\n",
    "        'n_estimators': [100, 200, 300],\n",
    "        'max_depth': [None, 10, 20, 30],\n",
    "        'min_samples_split': [2, 5, 10],\n",
    "        'min_samples_leaf': [1, 2, 4]\n",
    "    }\n",
    "    rf_grid_search = GridSearchCV(RandomForestRegressor(), rf_param_grid, cv=5, scoring='neg_mean_squared_error')\n",
    "    rf_grid_search.fit(X_train, y_train)\n",
    "    rf_best_model = rf_grid_search.best_estimator_\n",
    "    y_pred_rf = rf_best_model.predict(X_test)\n",
    "\n",
    "    evaluate_model(y_test, y_pred_rf, \"Random Forest\",mode)\n",
    "    return rf_best_model"
   ]
  },
  {
   "cell_type": "code",
   "execution_count": 18,
   "id": "1ba8daa8",
   "metadata": {},
   "outputs": [],
   "source": [
    "# Initialize and train Support Vector Regression (SVR) model\n",
    "def svr(mode):\n",
    "    svr_param_grid = {\n",
    "        'C': [0.1, 1, 10],\n",
    "        'kernel': ['linear', 'poly', 'rbf']\n",
    "    }\n",
    "    svr_grid_search = GridSearchCV(SVR(), svr_param_grid, cv=5, scoring='neg_mean_squared_error')\n",
    "    svr_grid_search.fit(X_train, y_train)\n",
    "    svr_best_model = svr_grid_search.best_estimator_\n",
    "    y_pred_svr = svr_best_model.predict(X_test)\n",
    "\n",
    "    evaluate_model(y_test, y_pred_svr, \"SVR\",mode)\n",
    "    return svr_best_model"
   ]
  },
  {
   "cell_type": "code",
   "execution_count": 19,
   "id": "e14eb220",
   "metadata": {},
   "outputs": [],
   "source": [
    "# Initialize and train K-nearest neighbor (KNN) model\n",
    "def knn(mode):\n",
    "\n",
    "    knn_param_grid = {\n",
    "        'n_neighbors': [3, 5, 7, 9],\n",
    "        'weights': ['uniform', 'distance']\n",
    "    }\n",
    "    knn_grid_search = GridSearchCV(KNeighborsRegressor(), knn_param_grid, cv=5, scoring='neg_mean_squared_error')\n",
    "    knn_grid_search.fit(X_train, y_train)\n",
    "    knn_best_model = knn_grid_search.best_estimator_\n",
    "    y_pred_knn = knn_best_model.predict(X_test)\n",
    "\n",
    "    evaluate_model(y_test, y_pred_knn, \"KNN\",mode)\n",
    "    return knn_best_model"
   ]
  },
  {
   "cell_type": "code",
   "execution_count": 20,
   "id": "6251a3f5",
   "metadata": {},
   "outputs": [],
   "source": [
    "# Initialize and train Gradient Boosting model\n",
    "def gb(mode):\n",
    "    gb_param_grid = {\n",
    "        'n_estimators': [50, 100, 200],\n",
    "        'learning_rate': [0.01, 0.1, 0.2],\n",
    "        'max_depth': [3, 4, 5]\n",
    "    }\n",
    "    gb_grid_search = GridSearchCV(GradientBoostingRegressor(), gb_param_grid, cv=5, scoring='neg_mean_squared_error')\n",
    "    gb_grid_search.fit(X_train, y_train)\n",
    "    gb_best_model = gb_grid_search.best_estimator_\n",
    "    y_pred_gb = gb_best_model.predict(X_test)\n",
    "\n",
    "    evaluate_model(y_test, y_pred_gb, \"Gradient Boosting\",mode)\n",
    "    return gb_best_model"
   ]
  },
  {
   "cell_type": "code",
   "execution_count": 21,
   "id": "9e36a950",
   "metadata": {},
   "outputs": [
    {
     "name": "stdout",
     "output_type": "stream",
     "text": [
      "Select a model by entering its number: \n",
      " 1.Linear Regression\n",
      " 2.Random Forest\n",
      " 3.SVR\n",
      " 4.KNN\n",
      " 5.Gradient Boosting4\n",
      "Select error metric:\n",
      " 1.MAE\n",
      " 2.MSE \n",
      "3.RMSE1\n",
      "KNN - Mean Absolute Error (MAE): 1.38\n"
     ]
    }
   ],
   "source": [
    "selected_model = input(\"Select a model by entering its number: \\n 1.Linear Regression\\n 2.Random Forest\\n 3.SVR\\n 4.KNN\\n 5.Gradient Boosting\")\n",
    "mode = input(\"Select error metric:\\n 1.MAE\\n 2.MSE \\n3.RMSE\")\n",
    "\n",
    "if selected_model == '1':\n",
    "    model = lr(mode)\n",
    "elif selected_model == '2':\n",
    "    model = rf(mode)\n",
    "elif selected_model == '3':\n",
    "    model = svr(mode)\n",
    "elif selected_model == '4':\n",
    "    model = knn(mode)\n",
    "else:\n",
    "    model = gb(mode)\n",
    "\n",
    "    \n",
    "y_pred_all = model.predict(X)\n",
    "\n",
    "# Create a DataFrame to store the predictions\n",
    "predictions_df = pd.DataFrame({'AirTemperature': X.flatten(), 'PredictedWaterTemperature': y_pred_all})\n",
    "\n",
    "# Save the predictions to a CSV file\n",
    "predictions_df.to_csv('predictions.csv', index=False)"
   ]
  },
  {
   "cell_type": "code",
   "execution_count": null,
   "id": "974d0983",
   "metadata": {},
   "outputs": [],
   "source": []
  }
 ],
 "metadata": {
  "kernelspec": {
   "display_name": "Python 3 (ipykernel)",
   "language": "python",
   "name": "python3"
  },
  "language_info": {
   "codemirror_mode": {
    "name": "ipython",
    "version": 3
   },
   "file_extension": ".py",
   "mimetype": "text/x-python",
   "name": "python",
   "nbconvert_exporter": "python",
   "pygments_lexer": "ipython3",
   "version": "3.10.12"
  }
 },
 "nbformat": 4,
 "nbformat_minor": 5
}
